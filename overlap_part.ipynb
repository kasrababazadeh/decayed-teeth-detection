{
  "cells": [
    {
      "cell_type": "markdown",
      "metadata": {},
      "source": [
        "LOAD YOUR DATA"
      ]
    },
    {
      "cell_type": "code",
      "execution_count": null,
      "metadata": {
        "id": "9o9D3tjM5Yja"
      },
      "outputs": [],
      "source": [
        "import os\n",
        "import matplotlib.pyplot as plt\n",
        "from tensorflow.keras.applications.vgg16 import preprocess_input\n",
        "import numpy as np\n",
        "import cv2\n",
        "from PIL import Image\n",
        "path = \"/path/to/images\"\n",
        "images = []\n",
        "labels = []\n",
        "for filename in os.listdir(path):\n",
        "    img_path = os.path.join(path, filename)\n",
        "    img = Image.open(img_path)\n",
        "    if 'overlap' in filename:\n",
        "      labels.append(1)\n",
        "    elif 'non_overlap' in filename:\n",
        "      labels.append(2)\n",
        "    elif 'useless' in filename:\n",
        "      labels.append(3)\n",
        "    size = (224 ,224)\n",
        "    image = img.resize(size)\n",
        "    # plt.imshow(image, cmap=\"gray\")\n",
        "    # plt.axis('off')\n",
        "    # plt.show()\n",
        "    image = np.array(image)\n",
        "    image = preprocess_input(image)\n",
        "    images.append(image)"
      ]
    },
    {
      "cell_type": "code",
      "execution_count": null,
      "metadata": {
        "colab": {
          "base_uri": "https://localhost:8080/"
        },
        "id": "7AUQTh3KEbFn",
        "outputId": "f3ccfbc1-42d9-46e6-e02e-d0b350da2e15"
      },
      "outputs": [],
      "source": [
        "images = np.array(images)\n",
        "images = np.stack(images, axis=0)\n",
        "print(len(labels))\n",
        "print(labels)"
      ]
    },
    {
      "cell_type": "code",
      "execution_count": null,
      "metadata": {
        "colab": {
          "base_uri": "https://localhost:8080/"
        },
        "id": "IL9XuAn4JhfQ",
        "outputId": "f2f670c6-504c-44d8-d9b6-14f33b477b6b"
      },
      "outputs": [],
      "source": [
        "from sklearn.preprocessing import LabelEncoder\n",
        "\n",
        "# Initialize the LabelEncoder\n",
        "label_encoder = LabelEncoder()\n",
        "\n",
        "# Fit the LabelEncoder to your class labels\n",
        "label_encoder.fit(labels)\n",
        "\n",
        "# Get the encoded labels\n",
        "labels = label_encoder.transform(labels)\n",
        "\n",
        "# Print the encoded labels\n",
        "labels.shape"
      ]
    },
    {
      "cell_type": "code",
      "execution_count": null,
      "metadata": {
        "colab": {
          "base_uri": "https://localhost:8080/"
        },
        "id": "lc8skBrZJsGH",
        "outputId": "20968975-bbbd-4e80-b877-98dd1dd12692"
      },
      "outputs": [],
      "source": [
        "from sklearn.model_selection import train_test_split, StratifiedShuffleSplit\n",
        "\n",
        "train_images, val_images, train_labels, val_labels = train_test_split(images, labels, test_size=0.2, random_state=23, stratify=labels)\n",
        "\n",
        "print(\"Train data shape:\", train_images.shape)\n",
        "print(\"Train labels shape:\", train_labels.shape)\n",
        "print(\"Validation data shape:\", val_images.shape)\n",
        "print(\"Validation labels shape:\", val_labels.shape)\n",
        "# print(\"Test data shape:\", test_images.shape)\n",
        "# print(\"Test labels shape:\", test_labels.shape)"
      ]
    },
    {
      "cell_type": "code",
      "execution_count": null,
      "metadata": {
        "colab": {
          "base_uri": "https://localhost:8080/"
        },
        "id": "2IjqoET0JtVi",
        "outputId": "a97a5c0b-af74-43d4-9a10-bc8691a205b7"
      },
      "outputs": [],
      "source": [
        "import tensorflow as tf\n",
        "from tensorflow import keras\n",
        "from tensorflow.keras import layers\n",
        "from tensorflow.keras.regularizers import l1_l2, l2, l1\n",
        "from tensorflow.keras.models import Sequential\n",
        "from tensorflow.keras.layers import Dense, Flatten, Dropout, AveragePooling2D\n",
        "from tensorflow.keras.optimizers import Adam\n",
        "from tensorflow.keras.preprocessing.image import ImageDataGenerator\n",
        "from tensorflow.keras.applications import VGG16\n",
        "from tensorflow.keras.callbacks import EarlyStopping\n",
        "\n",
        "early_stopping = EarlyStopping(monitor='val_loss', patience=5, restore_best_weights=True)\n",
        "base_model = VGG16(weights=\"imagenet\", include_top=False, input_shape=(224, 224, 3))\n",
        "\n",
        "model = keras.Sequential([\n",
        "        base_model,\n",
        "        layers.BatchNormalization(),\n",
        "        layers.AveragePooling2D(pool_size=(2, 2), padding='same'),\n",
        "        layers.Flatten(),\n",
        "        layers.Dense(256, activation='relu', kernel_regularizer=l2(0.01)),\n",
        "        layers.Dropout(0.2),\n",
        "        layers.Dense(128, activation='relu'),\n",
        "        layers.Dropout(0.2),\n",
        "        layers.Dense(3, activation='softmax')])\n",
        "\n",
        "for layer in base_model.layers:\n",
        "  layer.trainable = False\n",
        "for layer in base_model.layers[-10:]:\n",
        "    layer.trainable = True\n",
        "model.compile(optimizer=Adam(learning_rate=0.0001), loss='sparse_categorical_crossentropy', metrics=['accuracy'])\n",
        "history = model.fit(train_images, train_labels, batch_size=64, epochs=100, validation_data=(val_images, val_labels), callbacks=[early_stopping])\n",
        "model.save('/path/to/model.h5')"
      ]
    },
    {
      "cell_type": "code",
      "execution_count": null,
      "metadata": {
        "colab": {
          "base_uri": "https://localhost:8080/",
          "height": 472
        },
        "id": "h9y2SrYBJ4WP",
        "outputId": "59198062-fb33-40fd-fbf1-35736163b4a6"
      },
      "outputs": [],
      "source": [
        "import matplotlib.pyplot as plt\n",
        "\n",
        "train_loss = history.history['loss']\n",
        "val_loss = history.history['val_loss']\n",
        "train_accuracy = history.history['accuracy']\n",
        "val_accuracy = history.history['val_accuracy']\n",
        "\n",
        "epochs = range(1, len(train_loss) + 1)\n",
        "# plt.plot(epochs, train_loss, 'b-', label='Training Loss')\n",
        "# plt.plot(epochs, val_loss, 'r-', label='Validation Loss')\n",
        "plt.plot(epochs, train_accuracy, 'b--', label='Training Accuracy')\n",
        "plt.plot(epochs, val_accuracy, 'r--', label='Validation Accuracy')\n",
        "plt.xlabel('Epochs')\n",
        "plt.ylabel('Metrics')\n",
        "plt.title('Training and Validation Metrics')\n",
        "plt.legend()\n",
        "plt.show()"
      ]
    },
    {
      "cell_type": "code",
      "execution_count": null,
      "metadata": {
        "colab": {
          "base_uri": "https://localhost:8080/"
        },
        "id": "u2LJ2PLMKApc",
        "outputId": "977e0f0e-d17d-43aa-a4b6-4a64eefa32ff"
      },
      "outputs": [],
      "source": [
        "from tensorflow.keras.optimizers import Adam\n",
        "early_stopping = EarlyStopping(monitor='val_accuracy', patience=6, restore_best_weights=True)\n",
        "for layer in base_model.layers:\n",
        "    layer.trainable = True\n",
        "\n",
        "# Compile the model\n",
        "model.compile(optimizer=Adam(learning_rate=0.00001), loss='sparse_categorical_crossentropy', metrics=['accuracy'])\n",
        "\n",
        "# Train the model\n",
        "history = model.fit(train_images, train_labels, batch_size=64, epochs=100, validation_data=(val_images, val_labels), callbacks=[early_stopping])\n",
        "model.save('/path/to/fine_tuned_model.h5')"
      ]
    },
    {
      "cell_type": "code",
      "execution_count": null,
      "metadata": {
        "colab": {
          "base_uri": "https://localhost:8080/"
        },
        "id": "0QiRArydtSjV",
        "outputId": "df7ee5d1-7a03-4ff8-bf3e-beea9f0fc37f"
      },
      "outputs": [],
      "source": [
        "from sklearn.metrics import accuracy_score, precision_score, recall_score, f1_score, roc_auc_score\n",
        "\n",
        "test_predictions = model.predict(val_images)\n",
        "predicted_labels = np.argmax(test_predictions, axis=1)\n",
        "true_labels = val_labels\n",
        "\n",
        "# Calculate accuracy\n",
        "accuracy = accuracy_score(true_labels, predicted_labels)\n",
        "print(\"Accuracy:\", accuracy)\n",
        "# Calculate precision\n",
        "precision = precision_score(true_labels, predicted_labels, average='weighted')\n",
        "print(\"Precision:\", precision)\n",
        "\n",
        "# Calculate recall\n",
        "recall = recall_score(true_labels, predicted_labels, average='weighted')\n",
        "print(\"Recall:\", recall)\n",
        "\n",
        "# Calculate F1-score\n",
        "f1 = f1_score(true_labels, predicted_labels, average='weighted')\n",
        "print(\"F1-score:\", f1)"
      ]
    },
    {
      "cell_type": "code",
      "execution_count": null,
      "metadata": {
        "colab": {
          "base_uri": "https://localhost:8080/",
          "height": 472
        },
        "id": "ALzKaRomT9p-",
        "outputId": "f5419eed-e882-428d-98ad-384a3d8ce836"
      },
      "outputs": [],
      "source": [
        "import matplotlib.pyplot as plt\n",
        "\n",
        "train_loss = history.history['loss']\n",
        "val_loss = history.history['val_loss']\n",
        "train_accuracy = history.history['accuracy']\n",
        "val_accuracy = history.history['val_accuracy']\n",
        "\n",
        "epochs = range(1, len(train_loss) + 1)\n",
        "plt.plot(epochs, train_loss, 'b-', label='Training Loss')\n",
        "plt.plot(epochs, val_loss, 'r-', label='Validation Loss')\n",
        "plt.plot(epochs, train_accuracy, 'b--', label='Training Accuracy')\n",
        "plt.plot(epochs, val_accuracy, 'r--', label='Validation Accuracy')\n",
        "plt.xlabel('Epochs')\n",
        "plt.ylabel('Metrics')\n",
        "plt.title('Training and Validation Metrics')\n",
        "plt.legend()\n",
        "plt.show()"
      ]
    }
  ],
  "metadata": {
    "accelerator": "GPU",
    "colab": {
      "gpuType": "V100",
      "machine_shape": "hm",
      "provenance": []
    },
    "kernelspec": {
      "display_name": "Python 3",
      "name": "python3"
    },
    "language_info": {
      "name": "python"
    }
  },
  "nbformat": 4,
  "nbformat_minor": 0
}
